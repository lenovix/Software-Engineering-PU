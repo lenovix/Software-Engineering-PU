{
  "nbformat": 4,
  "nbformat_minor": 0,
  "metadata": {
    "colab": {
      "name": "week1.ipynb",
      "provenance": [],
      "authorship_tag": "ABX9TyNZj4N2iWqLSfOPGcdjZBWO",
      "include_colab_link": true
    },
    "kernelspec": {
      "name": "python3",
      "display_name": "Python 3"
    },
    "language_info": {
      "name": "python"
    }
  },
  "cells": [
    {
      "cell_type": "markdown",
      "metadata": {
        "id": "view-in-github",
        "colab_type": "text"
      },
      "source": [
        "<a href=\"https://colab.research.google.com/github/lenovix/Software-Engineering-PU/blob/main/week1.ipynb\" target=\"_parent\"><img src=\"https://colab.research.google.com/assets/colab-badge.svg\" alt=\"Open In Colab\"/></a>"
      ]
    },
    {
      "cell_type": "code",
      "metadata": {
        "id": "Q9YDWE25QKmh"
      },
      "source": [
        "a = 2"
      ],
      "execution_count": null,
      "outputs": []
    },
    {
      "cell_type": "code",
      "metadata": {
        "colab": {
          "base_uri": "https://localhost:8080/"
        },
        "id": "fAM_sip1TM9H",
        "outputId": "2052f8d1-7520-4c3e-d4a9-db8bfe895ff3"
      },
      "source": [
        "print(\"adalah orang nomor 1, nama saya\", a)"
      ],
      "execution_count": null,
      "outputs": [
        {
          "output_type": "stream",
          "name": "stdout",
          "text": [
            "adalah orang nomor 1, nama saya 2\n"
          ]
        }
      ]
    },
    {
      "cell_type": "code",
      "metadata": {
        "colab": {
          "base_uri": "https://localhost:8080/"
        },
        "id": "b1L8xnAZT3nb",
        "outputId": "09b08fb8-9768-4fb7-d09c-0c4aac903d94"
      },
      "source": [
        "nama_siswa = [\"kamil\", \"tony\", \"brak\"]\n",
        "list_1 = nama_siswa[-1] * 5\n",
        "print(list_1)"
      ],
      "execution_count": null,
      "outputs": [
        {
          "output_type": "stream",
          "name": "stdout",
          "text": [
            "bitcoinbitcoinbitcoinbitcoinbitcoin\n"
          ]
        }
      ]
    },
    {
      "cell_type": "code",
      "metadata": {
        "id": "5zi144RIW1qw"
      },
      "source": [
        "nama_siswa.append(2)"
      ],
      "execution_count": null,
      "outputs": []
    }
  ]
}