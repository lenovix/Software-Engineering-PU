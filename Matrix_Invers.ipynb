{
  "nbformat": 4,
  "nbformat_minor": 0,
  "metadata": {
    "colab": {
      "name": "Matrix Invers.ipynb",
      "provenance": [],
      "authorship_tag": "ABX9TyMYp9ijip6o5St1AK8m/iFI",
      "include_colab_link": true
    },
    "kernelspec": {
      "name": "python3",
      "display_name": "Python 3"
    },
    "language_info": {
      "name": "python"
    }
  },
  "cells": [
    {
      "cell_type": "markdown",
      "metadata": {
        "id": "view-in-github",
        "colab_type": "text"
      },
      "source": [
        "<a href=\"https://colab.research.google.com/github/lenovix/Software-Engineering-PU/blob/main/Matrix_Invers.ipynb\" target=\"_parent\"><img src=\"https://colab.research.google.com/assets/colab-badge.svg\" alt=\"Open In Colab\"/></a>"
      ]
    },
    {
      "cell_type": "code",
      "metadata": {
        "id": "u1OQDRp0nOYC"
      },
      "source": [
        "# cari invers matrix 2D\n",
        "# [ a b ]            (1/a*d-b*c)*adjoint matrix\n",
        "# [ c d ] \n",
        "# kalau matrix tidak punya invers = print(\"matrx tidak memiliki invers\")"
      ],
      "execution_count": 2,
      "outputs": []
    },
    {
      "cell_type": "code",
      "metadata": {
        "id": "isuLhtl-nfOZ"
      },
      "source": [
        "# print(\"Input matrix 2D :\")\n",
        "# print(\"[ a, b ]\")\n",
        "# print(\"[ c, d ]\")\n",
        "# print(\"=========\")\n",
        "# a = int(input(\"a: \"))\n",
        "# b = int(input(\"b: \"))\n",
        "# c = int(input(\"c: \"))\n",
        "# d = int(input(\"d: \"))\n",
        "# bb = b*(-1)\n",
        "# cc = c*(-1)\n",
        "# adjointMatrix = d,bb,cc,a\n",
        "# # result = (1/a*d-b*c)*adjointMatrix\n",
        "# print(adjointMatrix)"
      ],
      "execution_count": 24,
      "outputs": []
    },
    {
      "cell_type": "code",
      "metadata": {
        "colab": {
          "base_uri": "https://localhost:8080/"
        },
        "id": "xV64BOZJr_HT",
        "outputId": "be048a35-2484-4267-835d-2622c91d73b3"
      },
      "source": [
        "print(\"find invers matrix 2D :\")\n",
        "print(\"[ a, b ]\")\n",
        "print(\"[ c, d ]\")\n",
        "print(\"or [a, b, c, d]\")\n",
        "print(\"=========\")\n",
        "a = int(input(\"a: \")) # 0\n",
        "b = int(input(\"b: \")) # 1\n",
        "c = int(input(\"c: \")) # 2\n",
        "d = int(input(\"d: \")) # 3\n",
        "matrix = []\n",
        "matrix.append(a)\n",
        "matrix.append(b)\n",
        "matrix.append(c)\n",
        "matrix.append(d)\n",
        "formula = ((matrix[0]*matrix[3])-(matrix[1]*matrix[2]))\n",
        "adjointMatrix = matrix[3],(matrix[1]*-1),(matrix[2]*-1),matrix[0]\n",
        "formulaResult = int(1/formula)\n",
        "result = formulaResult*adjointMatrix\n",
        "if formula == 0 :\n",
        "  print(\"Matrix tidak memiliki invers\")\n",
        "else:  \n",
        "  print(result)"
      ],
      "execution_count": 56,
      "outputs": [
        {
          "output_type": "stream",
          "name": "stdout",
          "text": [
            "find invers matrix 2D :\n",
            "[ a, b ]\n",
            "[ c, d ]\n",
            "or [a, b, c, d]\n",
            "=========\n",
            "a: 4\n",
            "b: 1\n",
            "c: 7\n",
            "d: 2\n",
            "(2, -1, -7, 4)\n"
          ]
        }
      ]
    }
  ]
}